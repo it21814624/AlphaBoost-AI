{
 "cells": [
  {
   "cell_type": "code",
   "execution_count": 22,
   "id": "1b3a0c50",
   "metadata": {},
   "outputs": [
    {
     "name": "stdout",
     "output_type": "stream",
     "text": [
      "Extracted Text:\n",
      "balance\n",
      "\n"
     ]
    }
   ],
   "source": [
    "import pytesseract\n",
    "import cv2\n",
    "\n",
    "# Path to tesseract executable\n",
    "# You need to download and install Tesseract OCR from: https://github.com/tesseract-ocr/tesseract\n",
    "# Change this path to where Tesseract is installed on your machine.\n",
    "pytesseract.pytesseract.tesseract_cmd = r'C:\\Program Files\\Tesseract-OCR\\tesseract.exe'  # Include 'tesseract.exe' in the path\n",
    "\n",
    "def extract_text_from_image(image_path):\n",
    "    # Load the image from the given path\n",
    "    img = cv2.imread(image_path)\n",
    "    \n",
    "    # Convert image to grayscale (optional, but improves OCR accuracy)\n",
    "    gray = cv2.cvtColor(img, cv2.COLOR_BGR2GRAY)\n",
    "\n",
    "    # Optional: You can apply thresholding or other pre-processing methods to improve OCR accuracy\n",
    "    _, thresholded_img = cv2.threshold(gray, 150, 255, cv2.THRESH_BINARY)\n",
    "\n",
    "    # Use Tesseract to extract text from the processed image\n",
    "    text = pytesseract.image_to_string(thresholded_img)\n",
    "\n",
    "    # Print the extracted text\n",
    "    print(\"Extracted Text:\")\n",
    "    print(text)\n",
    "\n",
    "# Example usage:\n",
    "# Provide the correct path to your handwritten image\n",
    "image_path = r'C:\\Users\\admin\\Desktop\\research\\handwritten_words.png'  # Make sure to update this path\n",
    "\n",
    "# Call the function to extract text\n",
    "extract_text_from_image(image_path)\n",
    "\n"
   ]
  },
  {
   "cell_type": "code",
   "execution_count": 2,
   "id": "35bd8cc1",
   "metadata": {},
   "outputs": [
    {
     "name": "stdout",
     "output_type": "stream",
     "text": [
      "Extracted Text:\n",
      "balance\n",
      "\n"
     ]
    }
   ],
   "source": [
    "import pytesseract\n",
    "import cv2\n",
    "\n",
    "# Path to tesseract executable\n",
    "pytesseract.pytesseract.tesseract_cmd = r'C:\\Program Files\\Tesseract-OCR\\tesseract.exe'  # Adjust if needed\n",
    "\n",
    "def preprocess_image(image_path):\n",
    "    # Load the image from the given path\n",
    "    img = cv2.imread(image_path)\n",
    "    \n",
    "    # Convert the image to grayscale\n",
    "    gray = cv2.cvtColor(img, cv2.COLOR_BGR2GRAY)\n",
    "\n",
    "    # Apply GaussianBlur to remove noise\n",
    "    blurred = cv2.GaussianBlur(gray, (5, 5), 0)\n",
    "\n",
    "    # Threshold the image (binarize it)\n",
    "    _, thresholded_img = cv2.threshold(blurred, 150, 255, cv2.THRESH_BINARY)\n",
    "\n",
    "    # Optional: Resize the image for better OCR accuracy (if needed)\n",
    "    resized = cv2.resize(thresholded_img, None, fx=1.5, fy=1.5, interpolation=cv2.INTER_CUBIC)\n",
    "\n",
    "    return resized\n",
    "\n",
    "def extract_text_from_image(image_path):\n",
    "    # Preprocess the image\n",
    "    preprocessed_img = preprocess_image(image_path)\n",
    "\n",
    "    # Use Tesseract to extract text from the preprocessed image\n",
    "    text = pytesseract.image_to_string(preprocessed_img)\n",
    "\n",
    "    # Print the extracted text\n",
    "    print(\"Extracted Text:\")\n",
    "    print(text)\n",
    "\n",
    "# Example usage:\n",
    "image_path = r'C:\\Users\\admin\\Desktop\\research\\handwritten_words.png'  # Replace with your image path\n",
    "extract_text_from_image(image_path)\n"
   ]
  },
  {
   "cell_type": "code",
   "execution_count": 3,
   "id": "5aa36dc1",
   "metadata": {},
   "outputs": [
    {
     "name": "stdout",
     "output_type": "stream",
     "text": [
      "Extracted Text:\n",
      "\n"
     ]
    }
   ],
   "source": [
    "import pytesseract\n",
    "import cv2\n",
    "\n",
    "# Path to tesseract executable\n",
    "pytesseract.pytesseract.tesseract_cmd = r'C:\\Program Files\\Tesseract-OCR\\tesseract.exe'  # Adjust if needed\n",
    "\n",
    "def preprocess_image(image_path):\n",
    "    # Load the image from the given path\n",
    "    img = cv2.imread(image_path)\n",
    "    \n",
    "    # Convert the image to grayscale\n",
    "    gray = cv2.cvtColor(img, cv2.COLOR_BGR2GRAY)\n",
    "\n",
    "    # Apply contrast enhancement\n",
    "    enhanced = cv2.equalizeHist(gray)\n",
    "\n",
    "    # Adaptive thresholding to handle varying text thickness or lighting\n",
    "    adaptive_thresh = cv2.adaptiveThreshold(enhanced, 255, cv2.ADAPTIVE_THRESH_GAUSSIAN_C, cv2.THRESH_BINARY, 11, 2)\n",
    "\n",
    "    # Optional: Resize the image for better OCR accuracy\n",
    "    resized = cv2.resize(adaptive_thresh, None, fx=1.5, fy=1.5, interpolation=cv2.INTER_CUBIC)\n",
    "\n",
    "    return resized\n",
    "\n",
    "def extract_text_from_image(image_path):\n",
    "    # Preprocess the image\n",
    "    preprocessed_img = preprocess_image(image_path)\n",
    "\n",
    "    # Use Tesseract to extract text from the preprocessed image\n",
    "    text = pytesseract.image_to_string(preprocessed_img)\n",
    "\n",
    "    # Print the extracted text\n",
    "    print(\"Extracted Text:\")\n",
    "    print(text)\n",
    "\n",
    "# Example usage:\n",
    "image_path = r'C:\\Users\\admin\\Desktop\\research\\handwritten_words.png'  # Replace with your image path\n",
    "extract_text_from_image(image_path)\n"
   ]
  },
  {
   "cell_type": "code",
   "execution_count": null,
   "id": "7b61c03c",
   "metadata": {},
   "outputs": [],
   "source": []
  }
 ],
 "metadata": {
  "kernelspec": {
   "display_name": "venv",
   "language": "python",
   "name": "python3"
  },
  "language_info": {
   "codemirror_mode": {
    "name": "ipython",
    "version": 3
   },
   "file_extension": ".py",
   "mimetype": "text/x-python",
   "name": "python",
   "nbconvert_exporter": "python",
   "pygments_lexer": "ipython3",
   "version": "3.11.4"
  }
 },
 "nbformat": 4,
 "nbformat_minor": 5
}
